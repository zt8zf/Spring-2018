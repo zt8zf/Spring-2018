{
 "cells": [
  {
   "cell_type": "markdown",
   "metadata": {},
   "source": [
    "# Lab2: Introduction to Shell for Data Science\n",
    "\n",
    "Outline\n",
    "1. Basic commands\n",
    "2. Manipulating data\n",
    "3. Combining tools\n",
    "4. Batch processing\n",
    "----\n",
    "Appendix: Regular expressions"
   ]
  },
  {
   "cell_type": "markdown",
   "metadata": {},
   "source": [
    "## 1. Basic commands\n",
    "\n",
    "Suppose you want to download a file from the web and place it in `/Labs/data/` where your `/Labs/` current directory. \n"
   ]
  },
  {
   "cell_type": "code",
   "execution_count": 13,
   "metadata": {},
   "outputs": [
    {
     "name": "stdout",
     "output_type": "stream",
     "text": [
      "/home/jovyan/work/Spring-2018/Labs\r\n"
     ]
    }
   ],
   "source": [
    "# We can invoke shell commands within Jupyter notebook ! \n",
    "! pwd"
   ]
  },
  {
   "cell_type": "markdown",
   "metadata": {},
   "source": [
    "- We start by downloading a data file from the [UCI Machine Learning repository](https://archive.ics.uci.edu/ml/index.php). \n",
    "- To do so, we will use the `wget` command introduced in [Data collection and manipulation](https://github.com/UCSB-PSTAT-134-234/Spring-2018/blob/master/03-Data-collection-and-manipulation.ipynb)."
   ]
  },
  {
   "cell_type": "code",
   "execution_count": 14,
   "metadata": {},
   "outputs": [
    {
     "name": "stdout",
     "output_type": "stream",
     "text": [
      "--2018-04-13 05:35:42--  https://archive.ics.uci.edu/ml/machine-learning-databases/iris/iris.data\n",
      "Resolving archive.ics.uci.edu (archive.ics.uci.edu)... 128.195.10.249\n",
      "Connecting to archive.ics.uci.edu (archive.ics.uci.edu)|128.195.10.249|:443... connected.\n",
      "HTTP request sent, awaiting response... 200 OK\n",
      "Length: 4551 (4.4K) [text/plain]\n",
      "Saving to: ‘iris.data.1’\n",
      "\n",
      "iris.data.1         100%[===================>]   4.44K  --.-KB/s    in 0s      \n",
      "\n",
      "2018-04-13 05:35:42 (52.0 MB/s) - ‘iris.data.1’ saved [4551/4551]\n",
      "\n"
     ]
    }
   ],
   "source": [
    "! wget https://archive.ics.uci.edu/ml/machine-learning-databases/iris/iris.data"
   ]
  },
  {
   "cell_type": "markdown",
   "metadata": {},
   "source": [
    "We now make sure that the data has been successfully downloaded by using our basic navigation commands (`pwd`, `ls`, `cd`, etc)."
   ]
  },
  {
   "cell_type": "code",
   "execution_count": 83,
   "metadata": {},
   "outputs": [
    {
     "name": "stdout",
     "output_type": "stream",
     "text": [
      "Lab1.ipynb  Lab2.ipynb\tUpdating Forked Repo.ipynb\r\n"
     ]
    }
   ],
   "source": [
    "! ls -F -l"
   ]
  },
  {
   "cell_type": "markdown",
   "metadata": {},
   "source": [
    "## 2. Manipulating data\n",
    "\n",
    "- The first thing most data scientists do when given a new dataset to analyze is figure out what fields it contains and what values those fields have. \n",
    "- If the dataset has been exported from a database or spreadsheet, it will often be stored as comma-separated values (CSV). \n",
    "- A quick way to figure out what it contains is to look at the first few rows.\n",
    "\n",
    "### Selecting rows from a file"
   ]
  },
  {
   "cell_type": "code",
   "execution_count": 88,
   "metadata": {},
   "outputs": [
    {
     "name": "stdout",
     "output_type": "stream",
     "text": [
      "5.1,3.5,1.4,0.2,Iris-setosa\r\n",
      "4.9,3.0,1.4,0.2,Iris-setosa\r\n",
      "4.7,3.2,1.3,0.2,Iris-setosa\r\n",
      "4.6,3.1,1.5,0.2,Iris-setosa\r\n",
      "5.0,3.6,1.4,0.2,Iris-setosa\r\n",
      "5.4,3.9,1.7,0.4,Iris-setosa\r\n",
      "4.6,3.4,1.4,0.3,Iris-setosa\r\n",
      "5.0,3.4,1.5,0.2,Iris-setosa\r\n",
      "4.4,2.9,1.4,0.2,Iris-setosa\r\n",
      "4.9,3.1,1.5,0.1,Iris-setosa\r\n",
      "5.4,3.7,1.5,0.2,Iris-setosa\r\n",
      "4.8,3.4,1.6,0.2,Iris-setosa\r\n",
      "4.8,3.0,1.4,0.1,Iris-setosa\r\n",
      "4.3,3.0,1.1,0.1,Iris-setosa\r\n",
      "5.8,4.0,1.2,0.2,Iris-setosa\r\n",
      "5.7,4.4,1.5,0.4,Iris-setosa\r\n",
      "5.4,3.9,1.3,0.4,Iris-setosa\r\n",
      "5.1,3.5,1.4,0.3,Iris-setosa\r\n",
      "5.7,3.8,1.7,0.3,Iris-setosa\r\n",
      "5.1,3.8,1.5,0.3,Iris-setosa\r\n",
      "5.4,3.4,1.7,0.2,Iris-setosa\r\n",
      "5.1,3.7,1.5,0.4,Iris-setosa\r\n",
      "4.6,3.6,1.0,0.2,Iris-setosa\r\n",
      "5.1,3.3,1.7,0.5,Iris-setosa\r\n",
      "4.8,3.4,1.9,0.2,Iris-setosa\r\n",
      "5.0,3.0,1.6,0.2,Iris-setosa\r\n",
      "5.0,3.4,1.6,0.4,Iris-setosa\r\n",
      "5.2,3.5,1.5,0.2,Iris-setosa\r\n",
      "5.2,3.4,1.4,0.2,Iris-setosa\r\n",
      "4.7,3.2,1.6,0.2,Iris-setosa\r\n",
      "4.8,3.1,1.6,0.2,Iris-setosa\r\n",
      "5.4,3.4,1.5,0.4,Iris-setosa\r\n",
      "5.2,4.1,1.5,0.1,Iris-setosa\r\n",
      "5.5,4.2,1.4,0.2,Iris-setosa\r\n",
      "4.9,3.1,1.5,0.1,Iris-setosa\r\n",
      "5.0,3.2,1.2,0.2,Iris-setosa\r\n",
      "5.5,3.5,1.3,0.2,Iris-setosa\r\n",
      "4.9,3.1,1.5,0.1,Iris-setosa\r\n",
      "4.4,3.0,1.3,0.2,Iris-setosa\r\n",
      "5.1,3.4,1.5,0.2,Iris-setosa\r\n",
      "5.0,3.5,1.3,0.3,Iris-setosa\r\n",
      "4.5,2.3,1.3,0.3,Iris-setosa\r\n",
      "4.4,3.2,1.3,0.2,Iris-setosa\r\n",
      "5.0,3.5,1.6,0.6,Iris-setosa\r\n",
      "5.1,3.8,1.9,0.4,Iris-setosa\r\n",
      "4.8,3.0,1.4,0.3,Iris-setosa\r\n",
      "5.1,3.8,1.6,0.2,Iris-setosa\r\n",
      "4.6,3.2,1.4,0.2,Iris-setosa\r\n",
      "5.3,3.7,1.5,0.2,Iris-setosa\r\n",
      "5.0,3.3,1.4,0.2,Iris-setosa\r\n",
      "7.0,3.2,4.7,1.4,Iris-versicolor\r\n",
      "6.4,3.2,4.5,1.5,Iris-versicolor\r\n",
      "6.9,3.1,4.9,1.5,Iris-versicolor\r\n",
      "5.5,2.3,4.0,1.3,Iris-versicolor\r\n",
      "6.5,2.8,4.6,1.5,Iris-versicolor\r\n",
      "5.7,2.8,4.5,1.3,Iris-versicolor\r\n",
      "6.3,3.3,4.7,1.6,Iris-versicolor\r\n",
      "4.9,2.4,3.3,1.0,Iris-versicolor\r\n",
      "6.6,2.9,4.6,1.3,Iris-versicolor\r\n",
      "5.2,2.7,3.9,1.4,Iris-versicolor\r\n",
      "5.0,2.0,3.5,1.0,Iris-versicolor\r\n",
      "5.9,3.0,4.2,1.5,Iris-versicolor\r\n",
      "6.0,2.2,4.0,1.0,Iris-versicolor\r\n",
      "6.1,2.9,4.7,1.4,Iris-versicolor\r\n",
      "5.6,2.9,3.6,1.3,Iris-versicolor\r\n",
      "6.7,3.1,4.4,1.4,Iris-versicolor\r\n",
      "5.6,3.0,4.5,1.5,Iris-versicolor\r\n",
      "5.8,2.7,4.1,1.0,Iris-versicolor\r\n",
      "6.2,2.2,4.5,1.5,Iris-versicolor\r\n",
      "5.6,2.5,3.9,1.1,Iris-versicolor\r\n",
      "5.9,3.2,4.8,1.8,Iris-versicolor\r\n",
      "6.1,2.8,4.0,1.3,Iris-versicolor\r\n",
      "6.3,2.5,4.9,1.5,Iris-versicolor\r\n",
      "6.1,2.8,4.7,1.2,Iris-versicolor\r\n",
      "6.4,2.9,4.3,1.3,Iris-versicolor\r\n",
      "6.6,3.0,4.4,1.4,Iris-versicolor\r\n",
      "6.8,2.8,4.8,1.4,Iris-versicolor\r\n",
      "6.7,3.0,5.0,1.7,Iris-versicolor\r\n",
      "6.0,2.9,4.5,1.5,Iris-versicolor\r\n",
      "5.7,2.6,3.5,1.0,Iris-versicolor\r\n",
      "5.5,2.4,3.8,1.1,Iris-versicolor\r\n",
      "5.5,2.4,3.7,1.0,Iris-versicolor\r\n",
      "5.8,2.7,3.9,1.2,Iris-versicolor\r\n",
      "6.0,2.7,5.1,1.6,Iris-versicolor\r\n",
      "5.4,3.0,4.5,1.5,Iris-versicolor\r\n",
      "6.0,3.4,4.5,1.6,Iris-versicolor\r\n",
      "6.7,3.1,4.7,1.5,Iris-versicolor\r\n",
      "6.3,2.3,4.4,1.3,Iris-versicolor\r\n",
      "5.6,3.0,4.1,1.3,Iris-versicolor\r\n",
      "5.5,2.5,4.0,1.3,Iris-versicolor\r\n",
      "5.5,2.6,4.4,1.2,Iris-versicolor\r\n",
      "6.1,3.0,4.6,1.4,Iris-versicolor\r\n",
      "5.8,2.6,4.0,1.2,Iris-versicolor\r\n",
      "5.0,2.3,3.3,1.0,Iris-versicolor\r\n",
      "5.6,2.7,4.2,1.3,Iris-versicolor\r\n",
      "5.7,3.0,4.2,1.2,Iris-versicolor\r\n",
      "5.7,2.9,4.2,1.3,Iris-versicolor\r\n",
      "6.2,2.9,4.3,1.3,Iris-versicolor\r\n",
      "5.1,2.5,3.0,1.1,Iris-versicolor\r\n",
      "5.7,2.8,4.1,1.3,Iris-versicolor\r\n",
      "6.3,3.3,6.0,2.5,Iris-virginica\r\n",
      "5.8,2.7,5.1,1.9,Iris-virginica\r\n",
      "7.1,3.0,5.9,2.1,Iris-virginica\r\n",
      "6.3,2.9,5.6,1.8,Iris-virginica\r\n",
      "6.5,3.0,5.8,2.2,Iris-virginica\r\n",
      "7.6,3.0,6.6,2.1,Iris-virginica\r\n",
      "4.9,2.5,4.5,1.7,Iris-virginica\r\n",
      "7.3,2.9,6.3,1.8,Iris-virginica\r\n",
      "6.7,2.5,5.8,1.8,Iris-virginica\r\n",
      "7.2,3.6,6.1,2.5,Iris-virginica\r\n",
      "6.5,3.2,5.1,2.0,Iris-virginica\r\n",
      "6.4,2.7,5.3,1.9,Iris-virginica\r\n",
      "6.8,3.0,5.5,2.1,Iris-virginica\r\n",
      "5.7,2.5,5.0,2.0,Iris-virginica\r\n",
      "5.8,2.8,5.1,2.4,Iris-virginica\r\n",
      "6.4,3.2,5.3,2.3,Iris-virginica\r\n",
      "6.5,3.0,5.5,1.8,Iris-virginica\r\n",
      "7.7,3.8,6.7,2.2,Iris-virginica\r\n",
      "7.7,2.6,6.9,2.3,Iris-virginica\r\n",
      "6.0,2.2,5.0,1.5,Iris-virginica\r\n",
      "6.9,3.2,5.7,2.3,Iris-virginica\r\n",
      "5.6,2.8,4.9,2.0,Iris-virginica\r\n",
      "7.7,2.8,6.7,2.0,Iris-virginica\r\n",
      "6.3,2.7,4.9,1.8,Iris-virginica\r\n",
      "6.7,3.3,5.7,2.1,Iris-virginica\r\n",
      "7.2,3.2,6.0,1.8,Iris-virginica\r\n",
      "6.2,2.8,4.8,1.8,Iris-virginica\r\n",
      "6.1,3.0,4.9,1.8,Iris-virginica\r\n",
      "6.4,2.8,5.6,2.1,Iris-virginica\r\n",
      "7.2,3.0,5.8,1.6,Iris-virginica\r\n",
      "7.4,2.8,6.1,1.9,Iris-virginica\r\n",
      "7.9,3.8,6.4,2.0,Iris-virginica\r\n",
      "6.4,2.8,5.6,2.2,Iris-virginica\r\n",
      "6.3,2.8,5.1,1.5,Iris-virginica\r\n",
      "6.1,2.6,5.6,1.4,Iris-virginica\r\n",
      "7.7,3.0,6.1,2.3,Iris-virginica\r\n",
      "6.3,3.4,5.6,2.4,Iris-virginica\r\n",
      "6.4,3.1,5.5,1.8,Iris-virginica\r\n",
      "6.0,3.0,4.8,1.8,Iris-virginica\r\n",
      "6.9,3.1,5.4,2.1,Iris-virginica\r\n",
      "6.7,3.1,5.6,2.4,Iris-virginica\r\n",
      "6.9,3.1,5.1,2.3,Iris-virginica\r\n",
      "5.8,2.7,5.1,1.9,Iris-virginica\r\n",
      "6.8,3.2,5.9,2.3,Iris-virginica\r\n",
      "6.7,3.3,5.7,2.5,Iris-virginica\r\n",
      "6.7,3.0,5.2,2.3,Iris-virginica\r\n",
      "6.3,2.5,5.0,1.9,Iris-virginica\r\n",
      "6.5,3.0,5.2,2.0,Iris-virginica\r\n",
      "6.2,3.4,5.4,2.3,Iris-virginica\r\n",
      "5.9,3.0,5.1,1.8,Iris-virginica\r\n",
      "\r\n"
     ]
    }
   ],
   "source": [
    "# Prints entire contents of a file\n",
    "! cat iris.data"
   ]
  },
  {
   "cell_type": "code",
   "execution_count": 89,
   "metadata": {
    "scrolled": true
   },
   "outputs": [
    {
     "name": "stdout",
     "output_type": "stream",
     "text": [
      "5.1,3.5,1.4,0.2,Iris-setosa\r\n",
      "4.9,3.0,1.4,0.2,Iris-setosa\r\n",
      "4.7,3.2,1.3,0.2,Iris-setosa\r\n",
      "4.6,3.1,1.5,0.2,Iris-setosa\r\n",
      "5.0,3.6,1.4,0.2,Iris-setosa\r\n",
      "5.4,3.9,1.7,0.4,Iris-setosa\r\n",
      "4.6,3.4,1.4,0.3,Iris-setosa\r\n",
      "5.0,3.4,1.5,0.2,Iris-setosa\r\n",
      "4.4,2.9,1.4,0.2,Iris-setosa\r\n",
      "4.9,3.1,1.5,0.1,Iris-setosa\r\n"
     ]
    }
   ],
   "source": [
    "! head iris.data # show first ten lines"
   ]
  },
  {
   "cell_type": "code",
   "execution_count": 21,
   "metadata": {},
   "outputs": [
    {
     "name": "stdout",
     "output_type": "stream",
     "text": [
      "6.9,3.1,5.1,2.3,Iris-virginica\r\n",
      "5.8,2.7,5.1,1.9,Iris-virginica\r\n",
      "6.8,3.2,5.9,2.3,Iris-virginica\r\n",
      "6.7,3.3,5.7,2.5,Iris-virginica\r\n",
      "6.7,3.0,5.2,2.3,Iris-virginica\r\n",
      "6.3,2.5,5.0,1.9,Iris-virginica\r\n",
      "6.5,3.0,5.2,2.0,Iris-virginica\r\n",
      "6.2,3.4,5.4,2.3,Iris-virginica\r\n",
      "5.9,3.0,5.1,1.8,Iris-virginica\r\n",
      "\r\n"
     ]
    }
   ],
   "source": [
    "! tail iris.data # show last ten lines"
   ]
  },
  {
   "cell_type": "code",
   "execution_count": 90,
   "metadata": {},
   "outputs": [
    {
     "name": "stdout",
     "output_type": "stream",
     "text": [
      "5.4,3.9,1.7,0.4,Iris-setosa\r\n",
      "4.6,3.4,1.4,0.3,Iris-setosa\r\n",
      "5.0,3.4,1.5,0.2,Iris-setosa\r\n",
      "4.4,2.9,1.4,0.2,Iris-setosa\r\n",
      "4.9,3.1,1.5,0.1,Iris-setosa\r\n",
      "5.4,3.7,1.5,0.2,Iris-setosa\r\n",
      "4.8,3.4,1.6,0.2,Iris-setosa\r\n",
      "4.8,3.0,1.4,0.1,Iris-setosa\r\n",
      "4.3,3.0,1.1,0.1,Iris-setosa\r\n",
      "5.8,4.0,1.2,0.2,Iris-setosa\r\n",
      "5.7,4.4,1.5,0.4,Iris-setosa\r\n",
      "5.4,3.9,1.3,0.4,Iris-setosa\r\n",
      "5.1,3.5,1.4,0.3,Iris-setosa\r\n",
      "5.7,3.8,1.7,0.3,Iris-setosa\r\n",
      "5.1,3.8,1.5,0.3,Iris-setosa\r\n",
      "5.4,3.4,1.7,0.2,Iris-setosa\r\n",
      "5.1,3.7,1.5,0.4,Iris-setosa\r\n",
      "4.6,3.6,1.0,0.2,Iris-setosa\r\n",
      "5.1,3.3,1.7,0.5,Iris-setosa\r\n",
      "4.8,3.4,1.9,0.2,Iris-setosa\r\n",
      "5.0,3.0,1.6,0.2,Iris-setosa\r\n",
      "5.0,3.4,1.6,0.4,Iris-setosa\r\n",
      "5.2,3.5,1.5,0.2,Iris-setosa\r\n",
      "5.2,3.4,1.4,0.2,Iris-setosa\r\n",
      "4.7,3.2,1.6,0.2,Iris-setosa\r\n",
      "4.8,3.1,1.6,0.2,Iris-setosa\r\n",
      "5.4,3.4,1.5,0.4,Iris-setosa\r\n",
      "5.2,4.1,1.5,0.1,Iris-setosa\r\n",
      "5.5,4.2,1.4,0.2,Iris-setosa\r\n",
      "4.9,3.1,1.5,0.1,Iris-setosa\r\n",
      "5.0,3.2,1.2,0.2,Iris-setosa\r\n",
      "5.5,3.5,1.3,0.2,Iris-setosa\r\n",
      "4.9,3.1,1.5,0.1,Iris-setosa\r\n",
      "4.4,3.0,1.3,0.2,Iris-setosa\r\n",
      "5.1,3.4,1.5,0.2,Iris-setosa\r\n",
      "5.0,3.5,1.3,0.3,Iris-setosa\r\n",
      "4.5,2.3,1.3,0.3,Iris-setosa\r\n",
      "4.4,3.2,1.3,0.2,Iris-setosa\r\n",
      "5.0,3.5,1.6,0.6,Iris-setosa\r\n",
      "5.1,3.8,1.9,0.4,Iris-setosa\r\n",
      "4.8,3.0,1.4,0.3,Iris-setosa\r\n",
      "5.1,3.8,1.6,0.2,Iris-setosa\r\n",
      "4.6,3.2,1.4,0.2,Iris-setosa\r\n",
      "5.3,3.7,1.5,0.2,Iris-setosa\r\n",
      "5.0,3.3,1.4,0.2,Iris-setosa\r\n",
      "7.0,3.2,4.7,1.4,Iris-versicolor\r\n",
      "6.4,3.2,4.5,1.5,Iris-versicolor\r\n",
      "6.9,3.1,4.9,1.5,Iris-versicolor\r\n",
      "5.5,2.3,4.0,1.3,Iris-versicolor\r\n",
      "6.5,2.8,4.6,1.5,Iris-versicolor\r\n",
      "5.7,2.8,4.5,1.3,Iris-versicolor\r\n",
      "6.3,3.3,4.7,1.6,Iris-versicolor\r\n",
      "4.9,2.4,3.3,1.0,Iris-versicolor\r\n",
      "6.6,2.9,4.6,1.3,Iris-versicolor\r\n",
      "5.2,2.7,3.9,1.4,Iris-versicolor\r\n",
      "5.0,2.0,3.5,1.0,Iris-versicolor\r\n",
      "5.9,3.0,4.2,1.5,Iris-versicolor\r\n",
      "6.0,2.2,4.0,1.0,Iris-versicolor\r\n",
      "6.1,2.9,4.7,1.4,Iris-versicolor\r\n",
      "5.6,2.9,3.6,1.3,Iris-versicolor\r\n",
      "6.7,3.1,4.4,1.4,Iris-versicolor\r\n",
      "5.6,3.0,4.5,1.5,Iris-versicolor\r\n",
      "5.8,2.7,4.1,1.0,Iris-versicolor\r\n",
      "6.2,2.2,4.5,1.5,Iris-versicolor\r\n",
      "5.6,2.5,3.9,1.1,Iris-versicolor\r\n",
      "5.9,3.2,4.8,1.8,Iris-versicolor\r\n",
      "6.1,2.8,4.0,1.3,Iris-versicolor\r\n",
      "6.3,2.5,4.9,1.5,Iris-versicolor\r\n",
      "6.1,2.8,4.7,1.2,Iris-versicolor\r\n",
      "6.4,2.9,4.3,1.3,Iris-versicolor\r\n",
      "6.6,3.0,4.4,1.4,Iris-versicolor\r\n",
      "6.8,2.8,4.8,1.4,Iris-versicolor\r\n",
      "6.7,3.0,5.0,1.7,Iris-versicolor\r\n",
      "6.0,2.9,4.5,1.5,Iris-versicolor\r\n",
      "5.7,2.6,3.5,1.0,Iris-versicolor\r\n",
      "5.5,2.4,3.8,1.1,Iris-versicolor\r\n",
      "5.5,2.4,3.7,1.0,Iris-versicolor\r\n",
      "5.8,2.7,3.9,1.2,Iris-versicolor\r\n",
      "6.0,2.7,5.1,1.6,Iris-versicolor\r\n",
      "5.4,3.0,4.5,1.5,Iris-versicolor\r\n",
      "6.0,3.4,4.5,1.6,Iris-versicolor\r\n",
      "6.7,3.1,4.7,1.5,Iris-versicolor\r\n",
      "6.3,2.3,4.4,1.3,Iris-versicolor\r\n",
      "5.6,3.0,4.1,1.3,Iris-versicolor\r\n",
      "5.5,2.5,4.0,1.3,Iris-versicolor\r\n",
      "5.5,2.6,4.4,1.2,Iris-versicolor\r\n",
      "6.1,3.0,4.6,1.4,Iris-versicolor\r\n",
      "5.8,2.6,4.0,1.2,Iris-versicolor\r\n",
      "5.0,2.3,3.3,1.0,Iris-versicolor\r\n",
      "5.6,2.7,4.2,1.3,Iris-versicolor\r\n",
      "5.7,3.0,4.2,1.2,Iris-versicolor\r\n",
      "5.7,2.9,4.2,1.3,Iris-versicolor\r\n",
      "6.2,2.9,4.3,1.3,Iris-versicolor\r\n",
      "5.1,2.5,3.0,1.1,Iris-versicolor\r\n",
      "5.7,2.8,4.1,1.3,Iris-versicolor\r\n",
      "6.3,3.3,6.0,2.5,Iris-virginica\r\n",
      "5.8,2.7,5.1,1.9,Iris-virginica\r\n",
      "7.1,3.0,5.9,2.1,Iris-virginica\r\n",
      "6.3,2.9,5.6,1.8,Iris-virginica\r\n",
      "6.5,3.0,5.8,2.2,Iris-virginica\r\n",
      "7.6,3.0,6.6,2.1,Iris-virginica\r\n",
      "4.9,2.5,4.5,1.7,Iris-virginica\r\n",
      "7.3,2.9,6.3,1.8,Iris-virginica\r\n",
      "6.7,2.5,5.8,1.8,Iris-virginica\r\n",
      "7.2,3.6,6.1,2.5,Iris-virginica\r\n",
      "6.5,3.2,5.1,2.0,Iris-virginica\r\n",
      "6.4,2.7,5.3,1.9,Iris-virginica\r\n",
      "6.8,3.0,5.5,2.1,Iris-virginica\r\n",
      "5.7,2.5,5.0,2.0,Iris-virginica\r\n",
      "5.8,2.8,5.1,2.4,Iris-virginica\r\n",
      "6.4,3.2,5.3,2.3,Iris-virginica\r\n",
      "6.5,3.0,5.5,1.8,Iris-virginica\r\n",
      "7.7,3.8,6.7,2.2,Iris-virginica\r\n",
      "7.7,2.6,6.9,2.3,Iris-virginica\r\n",
      "6.0,2.2,5.0,1.5,Iris-virginica\r\n",
      "6.9,3.2,5.7,2.3,Iris-virginica\r\n",
      "5.6,2.8,4.9,2.0,Iris-virginica\r\n",
      "7.7,2.8,6.7,2.0,Iris-virginica\r\n",
      "6.3,2.7,4.9,1.8,Iris-virginica\r\n",
      "6.7,3.3,5.7,2.1,Iris-virginica\r\n",
      "7.2,3.2,6.0,1.8,Iris-virginica\r\n",
      "6.2,2.8,4.8,1.8,Iris-virginica\r\n",
      "6.1,3.0,4.9,1.8,Iris-virginica\r\n",
      "6.4,2.8,5.6,2.1,Iris-virginica\r\n",
      "7.2,3.0,5.8,1.6,Iris-virginica\r\n",
      "7.4,2.8,6.1,1.9,Iris-virginica\r\n",
      "7.9,3.8,6.4,2.0,Iris-virginica\r\n",
      "6.4,2.8,5.6,2.2,Iris-virginica\r\n",
      "6.3,2.8,5.1,1.5,Iris-virginica\r\n",
      "6.1,2.6,5.6,1.4,Iris-virginica\r\n",
      "7.7,3.0,6.1,2.3,Iris-virginica\r\n",
      "6.3,3.4,5.6,2.4,Iris-virginica\r\n",
      "6.4,3.1,5.5,1.8,Iris-virginica\r\n",
      "6.0,3.0,4.8,1.8,Iris-virginica\r\n",
      "6.9,3.1,5.4,2.1,Iris-virginica\r\n",
      "6.7,3.1,5.6,2.4,Iris-virginica\r\n",
      "6.9,3.1,5.1,2.3,Iris-virginica\r\n",
      "5.8,2.7,5.1,1.9,Iris-virginica\r\n",
      "6.8,3.2,5.9,2.3,Iris-virginica\r\n",
      "6.7,3.3,5.7,2.5,Iris-virginica\r\n",
      "6.7,3.0,5.2,2.3,Iris-virginica\r\n",
      "6.3,2.5,5.0,1.9,Iris-virginica\r\n",
      "6.5,3.0,5.2,2.0,Iris-virginica\r\n",
      "6.2,3.4,5.4,2.3,Iris-virginica\r\n",
      "5.9,3.0,5.1,1.8,Iris-virginica\r\n",
      "\r\n"
     ]
    }
   ],
   "source": [
    "# Given the information in the help file we can then display\n",
    "# all but the first 6 lines of the iris.data file\n",
    "! tail -n +6 iris.data"
   ]
  },
  {
   "cell_type": "markdown",
   "metadata": {},
   "source": [
    "### Selecting columns from a file\n",
    "\n",
    "`head` and `tail` let you select rows from a text file. If you want to select columns, you can use the command `cut`. "
   ]
  },
  {
   "cell_type": "code",
   "execution_count": 91,
   "metadata": {},
   "outputs": [
    {
     "name": "stdout",
     "output_type": "stream",
     "text": [
      "5.1,3.5,1.4,Iris-setosa\r\n",
      "4.9,3.0,1.4,Iris-setosa\r\n",
      "4.7,3.2,1.3,Iris-setosa\r\n",
      "4.6,3.1,1.5,Iris-setosa\r\n",
      "5.0,3.6,1.4,Iris-setosa\r\n",
      "5.4,3.9,1.7,Iris-setosa\r\n",
      "4.6,3.4,1.4,Iris-setosa\r\n",
      "5.0,3.4,1.5,Iris-setosa\r\n",
      "4.4,2.9,1.4,Iris-setosa\r\n",
      "4.9,3.1,1.5,Iris-setosa\r\n",
      "5.4,3.7,1.5,Iris-setosa\r\n",
      "4.8,3.4,1.6,Iris-setosa\r\n",
      "4.8,3.0,1.4,Iris-setosa\r\n",
      "4.3,3.0,1.1,Iris-setosa\r\n",
      "5.8,4.0,1.2,Iris-setosa\r\n",
      "5.7,4.4,1.5,Iris-setosa\r\n",
      "5.4,3.9,1.3,Iris-setosa\r\n",
      "5.1,3.5,1.4,Iris-setosa\r\n",
      "5.7,3.8,1.7,Iris-setosa\r\n",
      "5.1,3.8,1.5,Iris-setosa\r\n",
      "5.4,3.4,1.7,Iris-setosa\r\n",
      "5.1,3.7,1.5,Iris-setosa\r\n",
      "4.6,3.6,1.0,Iris-setosa\r\n",
      "5.1,3.3,1.7,Iris-setosa\r\n",
      "4.8,3.4,1.9,Iris-setosa\r\n",
      "5.0,3.0,1.6,Iris-setosa\r\n",
      "5.0,3.4,1.6,Iris-setosa\r\n",
      "5.2,3.5,1.5,Iris-setosa\r\n",
      "5.2,3.4,1.4,Iris-setosa\r\n",
      "4.7,3.2,1.6,Iris-setosa\r\n",
      "4.8,3.1,1.6,Iris-setosa\r\n",
      "5.4,3.4,1.5,Iris-setosa\r\n",
      "5.2,4.1,1.5,Iris-setosa\r\n",
      "5.5,4.2,1.4,Iris-setosa\r\n",
      "4.9,3.1,1.5,Iris-setosa\r\n",
      "5.0,3.2,1.2,Iris-setosa\r\n",
      "5.5,3.5,1.3,Iris-setosa\r\n",
      "4.9,3.1,1.5,Iris-setosa\r\n",
      "4.4,3.0,1.3,Iris-setosa\r\n",
      "5.1,3.4,1.5,Iris-setosa\r\n",
      "5.0,3.5,1.3,Iris-setosa\r\n",
      "4.5,2.3,1.3,Iris-setosa\r\n",
      "4.4,3.2,1.3,Iris-setosa\r\n",
      "5.0,3.5,1.6,Iris-setosa\r\n",
      "5.1,3.8,1.9,Iris-setosa\r\n",
      "4.8,3.0,1.4,Iris-setosa\r\n",
      "5.1,3.8,1.6,Iris-setosa\r\n",
      "4.6,3.2,1.4,Iris-setosa\r\n",
      "5.3,3.7,1.5,Iris-setosa\r\n",
      "5.0,3.3,1.4,Iris-setosa\r\n",
      "7.0,3.2,4.7,Iris-versicolor\r\n",
      "6.4,3.2,4.5,Iris-versicolor\r\n",
      "6.9,3.1,4.9,Iris-versicolor\r\n",
      "5.5,2.3,4.0,Iris-versicolor\r\n",
      "6.5,2.8,4.6,Iris-versicolor\r\n",
      "5.7,2.8,4.5,Iris-versicolor\r\n",
      "6.3,3.3,4.7,Iris-versicolor\r\n",
      "4.9,2.4,3.3,Iris-versicolor\r\n",
      "6.6,2.9,4.6,Iris-versicolor\r\n",
      "5.2,2.7,3.9,Iris-versicolor\r\n",
      "5.0,2.0,3.5,Iris-versicolor\r\n",
      "5.9,3.0,4.2,Iris-versicolor\r\n",
      "6.0,2.2,4.0,Iris-versicolor\r\n",
      "6.1,2.9,4.7,Iris-versicolor\r\n",
      "5.6,2.9,3.6,Iris-versicolor\r\n",
      "6.7,3.1,4.4,Iris-versicolor\r\n",
      "5.6,3.0,4.5,Iris-versicolor\r\n",
      "5.8,2.7,4.1,Iris-versicolor\r\n",
      "6.2,2.2,4.5,Iris-versicolor\r\n",
      "5.6,2.5,3.9,Iris-versicolor\r\n",
      "5.9,3.2,4.8,Iris-versicolor\r\n",
      "6.1,2.8,4.0,Iris-versicolor\r\n",
      "6.3,2.5,4.9,Iris-versicolor\r\n",
      "6.1,2.8,4.7,Iris-versicolor\r\n",
      "6.4,2.9,4.3,Iris-versicolor\r\n",
      "6.6,3.0,4.4,Iris-versicolor\r\n",
      "6.8,2.8,4.8,Iris-versicolor\r\n",
      "6.7,3.0,5.0,Iris-versicolor\r\n",
      "6.0,2.9,4.5,Iris-versicolor\r\n",
      "5.7,2.6,3.5,Iris-versicolor\r\n",
      "5.5,2.4,3.8,Iris-versicolor\r\n",
      "5.5,2.4,3.7,Iris-versicolor\r\n",
      "5.8,2.7,3.9,Iris-versicolor\r\n",
      "6.0,2.7,5.1,Iris-versicolor\r\n",
      "5.4,3.0,4.5,Iris-versicolor\r\n",
      "6.0,3.4,4.5,Iris-versicolor\r\n",
      "6.7,3.1,4.7,Iris-versicolor\r\n",
      "6.3,2.3,4.4,Iris-versicolor\r\n",
      "5.6,3.0,4.1,Iris-versicolor\r\n",
      "5.5,2.5,4.0,Iris-versicolor\r\n",
      "5.5,2.6,4.4,Iris-versicolor\r\n",
      "6.1,3.0,4.6,Iris-versicolor\r\n",
      "5.8,2.6,4.0,Iris-versicolor\r\n",
      "5.0,2.3,3.3,Iris-versicolor\r\n",
      "5.6,2.7,4.2,Iris-versicolor\r\n",
      "5.7,3.0,4.2,Iris-versicolor\r\n",
      "5.7,2.9,4.2,Iris-versicolor\r\n",
      "6.2,2.9,4.3,Iris-versicolor\r\n",
      "5.1,2.5,3.0,Iris-versicolor\r\n",
      "5.7,2.8,4.1,Iris-versicolor\r\n",
      "6.3,3.3,6.0,Iris-virginica\r\n",
      "5.8,2.7,5.1,Iris-virginica\r\n",
      "7.1,3.0,5.9,Iris-virginica\r\n",
      "6.3,2.9,5.6,Iris-virginica\r\n",
      "6.5,3.0,5.8,Iris-virginica\r\n",
      "7.6,3.0,6.6,Iris-virginica\r\n",
      "4.9,2.5,4.5,Iris-virginica\r\n",
      "7.3,2.9,6.3,Iris-virginica\r\n",
      "6.7,2.5,5.8,Iris-virginica\r\n",
      "7.2,3.6,6.1,Iris-virginica\r\n",
      "6.5,3.2,5.1,Iris-virginica\r\n",
      "6.4,2.7,5.3,Iris-virginica\r\n",
      "6.8,3.0,5.5,Iris-virginica\r\n",
      "5.7,2.5,5.0,Iris-virginica\r\n",
      "5.8,2.8,5.1,Iris-virginica\r\n",
      "6.4,3.2,5.3,Iris-virginica\r\n",
      "6.5,3.0,5.5,Iris-virginica\r\n",
      "7.7,3.8,6.7,Iris-virginica\r\n",
      "7.7,2.6,6.9,Iris-virginica\r\n",
      "6.0,2.2,5.0,Iris-virginica\r\n",
      "6.9,3.2,5.7,Iris-virginica\r\n",
      "5.6,2.8,4.9,Iris-virginica\r\n",
      "7.7,2.8,6.7,Iris-virginica\r\n",
      "6.3,2.7,4.9,Iris-virginica\r\n",
      "6.7,3.3,5.7,Iris-virginica\r\n",
      "7.2,3.2,6.0,Iris-virginica\r\n",
      "6.2,2.8,4.8,Iris-virginica\r\n",
      "6.1,3.0,4.9,Iris-virginica\r\n",
      "6.4,2.8,5.6,Iris-virginica\r\n",
      "7.2,3.0,5.8,Iris-virginica\r\n",
      "7.4,2.8,6.1,Iris-virginica\r\n",
      "7.9,3.8,6.4,Iris-virginica\r\n",
      "6.4,2.8,5.6,Iris-virginica\r\n",
      "6.3,2.8,5.1,Iris-virginica\r\n",
      "6.1,2.6,5.6,Iris-virginica\r\n",
      "7.7,3.0,6.1,Iris-virginica\r\n",
      "6.3,3.4,5.6,Iris-virginica\r\n",
      "6.4,3.1,5.5,Iris-virginica\r\n",
      "6.0,3.0,4.8,Iris-virginica\r\n",
      "6.9,3.1,5.4,Iris-virginica\r\n",
      "6.7,3.1,5.6,Iris-virginica\r\n",
      "6.9,3.1,5.1,Iris-virginica\r\n",
      "5.8,2.7,5.1,Iris-virginica\r\n",
      "6.8,3.2,5.9,Iris-virginica\r\n",
      "6.7,3.3,5.7,Iris-virginica\r\n",
      "6.7,3.0,5.2,Iris-virginica\r\n",
      "6.3,2.5,5.0,Iris-virginica\r\n",
      "6.5,3.0,5.2,Iris-virginica\r\n",
      "6.2,3.4,5.4,Iris-virginica\r\n",
      "5.9,3.0,5.1,Iris-virginica\r\n",
      "\r\n"
     ]
    }
   ],
   "source": [
    "! cut -f 1-3,5 -d , iris.data # -f: \"fields\" , -d: \"delimiter\""
   ]
  },
  {
   "cell_type": "markdown",
   "metadata": {},
   "source": [
    "### Selecting lines containing particular values\n",
    "\n",
    "- `head` and `tail` select rows, `cut` selects columns.\n",
    "- `grep` selects lines according to what they contain. \n",
    "- In its simplest form, `grep` takes a piece of text followed by one or more filenames and prints all of the lines in those files that contain that text. \n",
    "\n",
    "For example, suppose we want to retrieve all lines containing the word \"setosa\": "
   ]
  },
  {
   "cell_type": "code",
   "execution_count": 92,
   "metadata": {},
   "outputs": [
    {
     "name": "stdout",
     "output_type": "stream",
     "text": [
      "5.1,3.5,1.4,0.2,Iris-setosa\r\n",
      "4.9,3.0,1.4,0.2,Iris-setosa\r\n",
      "4.7,3.2,1.3,0.2,Iris-setosa\r\n",
      "4.6,3.1,1.5,0.2,Iris-setosa\r\n",
      "5.0,3.6,1.4,0.2,Iris-setosa\r\n",
      "5.4,3.9,1.7,0.4,Iris-setosa\r\n",
      "4.6,3.4,1.4,0.3,Iris-setosa\r\n",
      "5.0,3.4,1.5,0.2,Iris-setosa\r\n",
      "4.4,2.9,1.4,0.2,Iris-setosa\r\n",
      "4.9,3.1,1.5,0.1,Iris-setosa\r\n",
      "5.4,3.7,1.5,0.2,Iris-setosa\r\n",
      "4.8,3.4,1.6,0.2,Iris-setosa\r\n",
      "4.8,3.0,1.4,0.1,Iris-setosa\r\n",
      "4.3,3.0,1.1,0.1,Iris-setosa\r\n",
      "5.8,4.0,1.2,0.2,Iris-setosa\r\n",
      "5.7,4.4,1.5,0.4,Iris-setosa\r\n",
      "5.4,3.9,1.3,0.4,Iris-setosa\r\n",
      "5.1,3.5,1.4,0.3,Iris-setosa\r\n",
      "5.7,3.8,1.7,0.3,Iris-setosa\r\n",
      "5.1,3.8,1.5,0.3,Iris-setosa\r\n",
      "5.4,3.4,1.7,0.2,Iris-setosa\r\n",
      "5.1,3.7,1.5,0.4,Iris-setosa\r\n",
      "4.6,3.6,1.0,0.2,Iris-setosa\r\n",
      "5.1,3.3,1.7,0.5,Iris-setosa\r\n",
      "4.8,3.4,1.9,0.2,Iris-setosa\r\n",
      "5.0,3.0,1.6,0.2,Iris-setosa\r\n",
      "5.0,3.4,1.6,0.4,Iris-setosa\r\n",
      "5.2,3.5,1.5,0.2,Iris-setosa\r\n",
      "5.2,3.4,1.4,0.2,Iris-setosa\r\n",
      "4.7,3.2,1.6,0.2,Iris-setosa\r\n",
      "4.8,3.1,1.6,0.2,Iris-setosa\r\n",
      "5.4,3.4,1.5,0.4,Iris-setosa\r\n",
      "5.2,4.1,1.5,0.1,Iris-setosa\r\n",
      "5.5,4.2,1.4,0.2,Iris-setosa\r\n",
      "4.9,3.1,1.5,0.1,Iris-setosa\r\n",
      "5.0,3.2,1.2,0.2,Iris-setosa\r\n",
      "5.5,3.5,1.3,0.2,Iris-setosa\r\n",
      "4.9,3.1,1.5,0.1,Iris-setosa\r\n",
      "4.4,3.0,1.3,0.2,Iris-setosa\r\n",
      "5.1,3.4,1.5,0.2,Iris-setosa\r\n",
      "5.0,3.5,1.3,0.3,Iris-setosa\r\n",
      "4.5,2.3,1.3,0.3,Iris-setosa\r\n",
      "4.4,3.2,1.3,0.2,Iris-setosa\r\n",
      "5.0,3.5,1.6,0.6,Iris-setosa\r\n",
      "5.1,3.8,1.9,0.4,Iris-setosa\r\n",
      "4.8,3.0,1.4,0.3,Iris-setosa\r\n",
      "5.1,3.8,1.6,0.2,Iris-setosa\r\n",
      "4.6,3.2,1.4,0.2,Iris-setosa\r\n",
      "5.3,3.7,1.5,0.2,Iris-setosa\r\n",
      "5.0,3.3,1.4,0.2,Iris-setosa\r\n"
     ]
    }
   ],
   "source": [
    "! grep \"setosa\" iris.data"
   ]
  },
  {
   "cell_type": "markdown",
   "metadata": {},
   "source": [
    "###  `grep` command \n",
    "\n",
    "- The name \"grep\" stands for \"global regular expression print\". This means that grep can be used to see if the input it receives matches a specified pattern.\n",
    "\n",
    "- `grep` prints all of the lines from the `iris.data` that contain \"setosa\". It can search for patterns as well using [*regular expressions*](https://www.digitalocean.com/community/tutorials/using-grep-regular-expressions-to-search-for-text-patterns-in-linux); we will explore those later. \n",
    "\n",
    "What's more important right now is some of `grep`'s more common **flags**:\n",
    "\n",
    "`-c`: print a count of matching lines rather than the lines themselves\n",
    "\n",
    "`-h`: do not print the names of files when searching multiple files\n",
    "\n",
    "`-i`: ignore case (e.g., treat \"Regression\" and \"regression\" as matches)\n",
    "\n",
    "`-l`: print the names of files that contain matches, not the matches\n",
    "\n",
    "`-n`: print line numbers for matching lines\n",
    "\n",
    "`-v`: invert the match, i.e., only show lines that don't match"
   ]
  },
  {
   "cell_type": "code",
   "execution_count": 93,
   "metadata": {
    "scrolled": true
   },
   "outputs": [
    {
     "name": "stdout",
     "output_type": "stream",
     "text": [
      "51:7.0,3.2,4.7,1.4,Iris-versicolor\r\n",
      "52:6.4,3.2,4.5,1.5,Iris-versicolor\r\n",
      "53:6.9,3.1,4.9,1.5,Iris-versicolor\r\n",
      "54:5.5,2.3,4.0,1.3,Iris-versicolor\r\n",
      "55:6.5,2.8,4.6,1.5,Iris-versicolor\r\n",
      "56:5.7,2.8,4.5,1.3,Iris-versicolor\r\n",
      "57:6.3,3.3,4.7,1.6,Iris-versicolor\r\n",
      "58:4.9,2.4,3.3,1.0,Iris-versicolor\r\n",
      "59:6.6,2.9,4.6,1.3,Iris-versicolor\r\n",
      "60:5.2,2.7,3.9,1.4,Iris-versicolor\r\n",
      "61:5.0,2.0,3.5,1.0,Iris-versicolor\r\n",
      "62:5.9,3.0,4.2,1.5,Iris-versicolor\r\n",
      "63:6.0,2.2,4.0,1.0,Iris-versicolor\r\n",
      "64:6.1,2.9,4.7,1.4,Iris-versicolor\r\n",
      "65:5.6,2.9,3.6,1.3,Iris-versicolor\r\n",
      "66:6.7,3.1,4.4,1.4,Iris-versicolor\r\n",
      "67:5.6,3.0,4.5,1.5,Iris-versicolor\r\n",
      "68:5.8,2.7,4.1,1.0,Iris-versicolor\r\n",
      "69:6.2,2.2,4.5,1.5,Iris-versicolor\r\n",
      "70:5.6,2.5,3.9,1.1,Iris-versicolor\r\n",
      "71:5.9,3.2,4.8,1.8,Iris-versicolor\r\n",
      "72:6.1,2.8,4.0,1.3,Iris-versicolor\r\n",
      "73:6.3,2.5,4.9,1.5,Iris-versicolor\r\n",
      "74:6.1,2.8,4.7,1.2,Iris-versicolor\r\n",
      "75:6.4,2.9,4.3,1.3,Iris-versicolor\r\n",
      "76:6.6,3.0,4.4,1.4,Iris-versicolor\r\n",
      "77:6.8,2.8,4.8,1.4,Iris-versicolor\r\n",
      "78:6.7,3.0,5.0,1.7,Iris-versicolor\r\n",
      "79:6.0,2.9,4.5,1.5,Iris-versicolor\r\n",
      "80:5.7,2.6,3.5,1.0,Iris-versicolor\r\n",
      "81:5.5,2.4,3.8,1.1,Iris-versicolor\r\n",
      "82:5.5,2.4,3.7,1.0,Iris-versicolor\r\n",
      "83:5.8,2.7,3.9,1.2,Iris-versicolor\r\n",
      "84:6.0,2.7,5.1,1.6,Iris-versicolor\r\n",
      "85:5.4,3.0,4.5,1.5,Iris-versicolor\r\n",
      "86:6.0,3.4,4.5,1.6,Iris-versicolor\r\n",
      "87:6.7,3.1,4.7,1.5,Iris-versicolor\r\n",
      "88:6.3,2.3,4.4,1.3,Iris-versicolor\r\n",
      "89:5.6,3.0,4.1,1.3,Iris-versicolor\r\n",
      "90:5.5,2.5,4.0,1.3,Iris-versicolor\r\n",
      "91:5.5,2.6,4.4,1.2,Iris-versicolor\r\n",
      "92:6.1,3.0,4.6,1.4,Iris-versicolor\r\n",
      "93:5.8,2.6,4.0,1.2,Iris-versicolor\r\n",
      "94:5.0,2.3,3.3,1.0,Iris-versicolor\r\n",
      "95:5.6,2.7,4.2,1.3,Iris-versicolor\r\n",
      "96:5.7,3.0,4.2,1.2,Iris-versicolor\r\n",
      "97:5.7,2.9,4.2,1.3,Iris-versicolor\r\n",
      "98:6.2,2.9,4.3,1.3,Iris-versicolor\r\n",
      "99:5.1,2.5,3.0,1.1,Iris-versicolor\r\n",
      "100:5.7,2.8,4.1,1.3,Iris-versicolor\r\n",
      "101:6.3,3.3,6.0,2.5,Iris-virginica\r\n",
      "102:5.8,2.7,5.1,1.9,Iris-virginica\r\n",
      "103:7.1,3.0,5.9,2.1,Iris-virginica\r\n",
      "104:6.3,2.9,5.6,1.8,Iris-virginica\r\n",
      "105:6.5,3.0,5.8,2.2,Iris-virginica\r\n",
      "106:7.6,3.0,6.6,2.1,Iris-virginica\r\n",
      "107:4.9,2.5,4.5,1.7,Iris-virginica\r\n",
      "108:7.3,2.9,6.3,1.8,Iris-virginica\r\n",
      "109:6.7,2.5,5.8,1.8,Iris-virginica\r\n",
      "110:7.2,3.6,6.1,2.5,Iris-virginica\r\n",
      "111:6.5,3.2,5.1,2.0,Iris-virginica\r\n",
      "112:6.4,2.7,5.3,1.9,Iris-virginica\r\n",
      "113:6.8,3.0,5.5,2.1,Iris-virginica\r\n",
      "114:5.7,2.5,5.0,2.0,Iris-virginica\r\n",
      "115:5.8,2.8,5.1,2.4,Iris-virginica\r\n",
      "116:6.4,3.2,5.3,2.3,Iris-virginica\r\n",
      "117:6.5,3.0,5.5,1.8,Iris-virginica\r\n",
      "118:7.7,3.8,6.7,2.2,Iris-virginica\r\n",
      "119:7.7,2.6,6.9,2.3,Iris-virginica\r\n",
      "120:6.0,2.2,5.0,1.5,Iris-virginica\r\n",
      "121:6.9,3.2,5.7,2.3,Iris-virginica\r\n",
      "122:5.6,2.8,4.9,2.0,Iris-virginica\r\n",
      "123:7.7,2.8,6.7,2.0,Iris-virginica\r\n",
      "124:6.3,2.7,4.9,1.8,Iris-virginica\r\n",
      "125:6.7,3.3,5.7,2.1,Iris-virginica\r\n",
      "126:7.2,3.2,6.0,1.8,Iris-virginica\r\n",
      "127:6.2,2.8,4.8,1.8,Iris-virginica\r\n",
      "128:6.1,3.0,4.9,1.8,Iris-virginica\r\n",
      "129:6.4,2.8,5.6,2.1,Iris-virginica\r\n",
      "130:7.2,3.0,5.8,1.6,Iris-virginica\r\n",
      "131:7.4,2.8,6.1,1.9,Iris-virginica\r\n",
      "132:7.9,3.8,6.4,2.0,Iris-virginica\r\n",
      "133:6.4,2.8,5.6,2.2,Iris-virginica\r\n",
      "134:6.3,2.8,5.1,1.5,Iris-virginica\r\n",
      "135:6.1,2.6,5.6,1.4,Iris-virginica\r\n",
      "136:7.7,3.0,6.1,2.3,Iris-virginica\r\n",
      "137:6.3,3.4,5.6,2.4,Iris-virginica\r\n",
      "138:6.4,3.1,5.5,1.8,Iris-virginica\r\n",
      "139:6.0,3.0,4.8,1.8,Iris-virginica\r\n",
      "140:6.9,3.1,5.4,2.1,Iris-virginica\r\n",
      "141:6.7,3.1,5.6,2.4,Iris-virginica\r\n",
      "142:6.9,3.1,5.1,2.3,Iris-virginica\r\n",
      "143:5.8,2.7,5.1,1.9,Iris-virginica\r\n",
      "144:6.8,3.2,5.9,2.3,Iris-virginica\r\n",
      "145:6.7,3.3,5.7,2.5,Iris-virginica\r\n",
      "146:6.7,3.0,5.2,2.3,Iris-virginica\r\n",
      "147:6.3,2.5,5.0,1.9,Iris-virginica\r\n",
      "148:6.5,3.0,5.2,2.0,Iris-virginica\r\n",
      "149:6.2,3.4,5.4,2.3,Iris-virginica\r\n",
      "150:5.9,3.0,5.1,1.8,Iris-virginica\r\n",
      "151:\r\n"
     ]
    }
   ],
   "source": [
    "# best practices for grep is to place options/flags \n",
    "# before the pattern we are looking for:\n",
    "! grep -n -v \"setosa\" iris.data "
   ]
  },
  {
   "cell_type": "code",
   "execution_count": 94,
   "metadata": {},
   "outputs": [
    {
     "name": "stdout",
     "output_type": "stream",
     "text": [
      "50\r\n"
     ]
    }
   ],
   "source": [
    "! grep -c \"setosa\" iris.data"
   ]
  },
  {
   "cell_type": "markdown",
   "metadata": {},
   "source": [
    "## 3. Combining tools\n",
    "\n",
    "## Re-directing: store a command's output in a file\n",
    "\n",
    "- All of the tools you have seen so far let you name input files. Most don't have an option for naming an output file because they don't need one. \n",
    "- Instead, you can use redirection to save any command's output anywhere you want. "
   ]
  },
  {
   "cell_type": "code",
   "execution_count": 95,
   "metadata": {},
   "outputs": [],
   "source": [
    "! grep \"setosa\" iris.data > setosa.csv"
   ]
  },
  {
   "cell_type": "code",
   "execution_count": 96,
   "metadata": {},
   "outputs": [
    {
     "name": "stdout",
     "output_type": "stream",
     "text": [
      "gpl.txt\t\t     Iris-virginica.csv  Untitled.ipynb\r\n",
      "iris.data\t     Lab1.ipynb\t\t Updating Forked Repo.ipynb\r\n",
      "Iris-setosa.csv      Lab2.ipynb\r\n",
      "Iris-versicolor.csv  setosa.csv\r\n"
     ]
    }
   ],
   "source": [
    "! ls"
   ]
  },
  {
   "cell_type": "markdown",
   "metadata": {},
   "source": [
    "We can then apply either of the above commands to the resulting file `setosa.csv`"
   ]
  },
  {
   "cell_type": "code",
   "execution_count": 97,
   "metadata": {},
   "outputs": [
    {
     "name": "stdout",
     "output_type": "stream",
     "text": [
      "5.1,Iris-setosa\r\n",
      "4.9,Iris-setosa\r\n",
      "4.7,Iris-setosa\r\n",
      "4.6,Iris-setosa\r\n",
      "5.0,Iris-setosa\r\n",
      "5.4,Iris-setosa\r\n",
      "4.6,Iris-setosa\r\n",
      "5.0,Iris-setosa\r\n",
      "4.4,Iris-setosa\r\n",
      "4.9,Iris-setosa\r\n",
      "5.4,Iris-setosa\r\n",
      "4.8,Iris-setosa\r\n",
      "4.8,Iris-setosa\r\n",
      "4.3,Iris-setosa\r\n",
      "5.8,Iris-setosa\r\n",
      "5.7,Iris-setosa\r\n",
      "5.4,Iris-setosa\r\n",
      "5.1,Iris-setosa\r\n",
      "5.7,Iris-setosa\r\n",
      "5.1,Iris-setosa\r\n",
      "5.4,Iris-setosa\r\n",
      "5.1,Iris-setosa\r\n",
      "4.6,Iris-setosa\r\n",
      "5.1,Iris-setosa\r\n",
      "4.8,Iris-setosa\r\n",
      "5.0,Iris-setosa\r\n",
      "5.0,Iris-setosa\r\n",
      "5.2,Iris-setosa\r\n",
      "5.2,Iris-setosa\r\n",
      "4.7,Iris-setosa\r\n",
      "4.8,Iris-setosa\r\n",
      "5.4,Iris-setosa\r\n",
      "5.2,Iris-setosa\r\n",
      "5.5,Iris-setosa\r\n",
      "4.9,Iris-setosa\r\n",
      "5.0,Iris-setosa\r\n",
      "5.5,Iris-setosa\r\n",
      "4.9,Iris-setosa\r\n",
      "4.4,Iris-setosa\r\n",
      "5.1,Iris-setosa\r\n",
      "5.0,Iris-setosa\r\n",
      "4.5,Iris-setosa\r\n",
      "4.4,Iris-setosa\r\n",
      "5.0,Iris-setosa\r\n",
      "5.1,Iris-setosa\r\n",
      "4.8,Iris-setosa\r\n",
      "5.1,Iris-setosa\r\n",
      "4.6,Iris-setosa\r\n",
      "5.3,Iris-setosa\r\n",
      "5.0,Iris-setosa\r\n"
     ]
    }
   ],
   "source": [
    "# For example, select only first and last columns\n",
    "! cut -f 1,5 -d , setosa.csv"
   ]
  },
  {
   "cell_type": "markdown",
   "metadata": {},
   "source": [
    "## Piping: using one command's output as another command's input\n",
    "\n",
    "The shell provides another tool that solves both of these problems at once called a **pipe**. \n"
   ]
  },
  {
   "cell_type": "code",
   "execution_count": 98,
   "metadata": {
    "scrolled": true
   },
   "outputs": [
    {
     "name": "stdout",
     "output_type": "stream",
     "text": [
      "5.1,Iris-setosa\r\n",
      "4.9,Iris-setosa\r\n",
      "4.7,Iris-setosa\r\n",
      "4.6,Iris-setosa\r\n",
      "5.0,Iris-setosa\r\n",
      "5.4,Iris-setosa\r\n",
      "4.6,Iris-setosa\r\n",
      "5.0,Iris-setosa\r\n",
      "4.4,Iris-setosa\r\n",
      "4.9,Iris-setosa\r\n",
      "5.4,Iris-setosa\r\n",
      "4.8,Iris-setosa\r\n",
      "4.8,Iris-setosa\r\n",
      "4.3,Iris-setosa\r\n",
      "5.8,Iris-setosa\r\n",
      "5.7,Iris-setosa\r\n",
      "5.4,Iris-setosa\r\n",
      "5.1,Iris-setosa\r\n",
      "5.7,Iris-setosa\r\n",
      "5.1,Iris-setosa\r\n",
      "5.4,Iris-setosa\r\n",
      "5.1,Iris-setosa\r\n",
      "4.6,Iris-setosa\r\n",
      "5.1,Iris-setosa\r\n",
      "4.8,Iris-setosa\r\n",
      "5.0,Iris-setosa\r\n",
      "5.0,Iris-setosa\r\n",
      "5.2,Iris-setosa\r\n",
      "5.2,Iris-setosa\r\n",
      "4.7,Iris-setosa\r\n",
      "4.8,Iris-setosa\r\n",
      "5.4,Iris-setosa\r\n",
      "5.2,Iris-setosa\r\n",
      "5.5,Iris-setosa\r\n",
      "4.9,Iris-setosa\r\n",
      "5.0,Iris-setosa\r\n",
      "5.5,Iris-setosa\r\n",
      "4.9,Iris-setosa\r\n",
      "4.4,Iris-setosa\r\n",
      "5.1,Iris-setosa\r\n",
      "5.0,Iris-setosa\r\n",
      "4.5,Iris-setosa\r\n",
      "4.4,Iris-setosa\r\n",
      "5.0,Iris-setosa\r\n",
      "5.1,Iris-setosa\r\n",
      "4.8,Iris-setosa\r\n",
      "5.1,Iris-setosa\r\n",
      "4.6,Iris-setosa\r\n",
      "5.3,Iris-setosa\r\n",
      "5.0,Iris-setosa\r\n"
     ]
    }
   ],
   "source": [
    "# Option 1\n",
    "! grep \"setosa\" iris.data > setosa.csv\n",
    "! cut -f 1,5 -d , setosa.csv"
   ]
  },
  {
   "cell_type": "code",
   "execution_count": 99,
   "metadata": {},
   "outputs": [
    {
     "name": "stdout",
     "output_type": "stream",
     "text": [
      "5.1,Iris-setosa\r\n",
      "4.9,Iris-setosa\r\n",
      "4.7,Iris-setosa\r\n",
      "4.6,Iris-setosa\r\n",
      "5.0,Iris-setosa\r\n",
      "5.4,Iris-setosa\r\n",
      "4.6,Iris-setosa\r\n",
      "5.0,Iris-setosa\r\n",
      "4.4,Iris-setosa\r\n",
      "4.9,Iris-setosa\r\n",
      "5.4,Iris-setosa\r\n",
      "4.8,Iris-setosa\r\n",
      "4.8,Iris-setosa\r\n",
      "4.3,Iris-setosa\r\n",
      "5.8,Iris-setosa\r\n",
      "5.7,Iris-setosa\r\n",
      "5.4,Iris-setosa\r\n",
      "5.1,Iris-setosa\r\n",
      "5.7,Iris-setosa\r\n",
      "5.1,Iris-setosa\r\n",
      "5.4,Iris-setosa\r\n",
      "5.1,Iris-setosa\r\n",
      "4.6,Iris-setosa\r\n",
      "5.1,Iris-setosa\r\n",
      "4.8,Iris-setosa\r\n",
      "5.0,Iris-setosa\r\n",
      "5.0,Iris-setosa\r\n",
      "5.2,Iris-setosa\r\n",
      "5.2,Iris-setosa\r\n",
      "4.7,Iris-setosa\r\n",
      "4.8,Iris-setosa\r\n",
      "5.4,Iris-setosa\r\n",
      "5.2,Iris-setosa\r\n",
      "5.5,Iris-setosa\r\n",
      "4.9,Iris-setosa\r\n",
      "5.0,Iris-setosa\r\n",
      "5.5,Iris-setosa\r\n",
      "4.9,Iris-setosa\r\n",
      "4.4,Iris-setosa\r\n",
      "5.1,Iris-setosa\r\n",
      "5.0,Iris-setosa\r\n",
      "4.5,Iris-setosa\r\n",
      "4.4,Iris-setosa\r\n",
      "5.0,Iris-setosa\r\n",
      "5.1,Iris-setosa\r\n",
      "4.8,Iris-setosa\r\n",
      "5.1,Iris-setosa\r\n",
      "4.6,Iris-setosa\r\n",
      "5.3,Iris-setosa\r\n",
      "5.0,Iris-setosa\r\n"
     ]
    }
   ],
   "source": [
    "# Option 2\n",
    "! grep \"setosa\" iris.data | cut -f 1,5 -d , "
   ]
  },
  {
   "cell_type": "markdown",
   "metadata": {},
   "source": [
    "The pipe symbol `|` tells the shell to use the output of the command on the left as the input to the command on the right."
   ]
  },
  {
   "cell_type": "code",
   "execution_count": 106,
   "metadata": {},
   "outputs": [
    {
     "name": "stdout",
     "output_type": "stream",
     "text": [
      "10:4.9,3.1,1.5,0.1,Iris-setosa\r\n",
      "13:4.8,3.0,1.4,0.1,Iris-setosa\r\n",
      "14:4.3,3.0,1.1,0.1,Iris-setosa\r\n",
      "33:5.2,4.1,1.5,0.1,Iris-setosa\r\n",
      "35:4.9,3.1,1.5,0.1,Iris-setosa\r\n"
     ]
    }
   ],
   "source": [
    "# Sort rows containing the word setosa according to the 4th \"numeric\" (-n)\n",
    "# key (field)\n",
    "! grep -n \"setosa\" iris.data | sort -n -k 4 --field-separator=',' | head -n 5"
   ]
  },
  {
   "cell_type": "markdown",
   "metadata": {},
   "source": [
    "## Pipes and re-direction\n",
    "\n",
    "The shell lets us redirect the output of a sequence of piped commands. However, `>` must appear at the end of the pipeline: if we try to use it in the middle, like this:"
   ]
  },
  {
   "cell_type": "code",
   "execution_count": 107,
   "metadata": {},
   "outputs": [],
   "source": [
    "! grep -n \"setosa\" iris.data | sort -n -k 4 | head -n 5 > bottom5.csv"
   ]
  },
  {
   "cell_type": "markdown",
   "metadata": {},
   "source": [
    "## How can I stop a running program?\n",
    "\n",
    "The commands and scripts that you have run so far have all executed quickly, but some tasks will take minutes, hours, or even days to complete. \n",
    "\n",
    "You may also mistakenly put **redirection** in the middle of a **pipeline**, causing it to hang up. If you decide that you don't want a program to keep running, you can type `Ctrl-C` to end it. This is often written `^C` in Unix documentation; note that the 'c' can be lower-case."
   ]
  },
  {
   "cell_type": "markdown",
   "metadata": {},
   "source": [
    "# 4. Batch processing\n",
    "\n",
    "## Environment variables\n",
    "\n",
    "Like other programs, the shell stores information in variables. Some of these, called **environment variables**, are available all the time. Environment variables' names are conventionally written in upper case, and a few of the more commonly-used ones are shown below:\n",
    "\n",
    "Variable | Purpose | Value\n",
    "--- | --- | ---\n",
    "`HOME` | User's home directory | `/home/repl`\n",
    "`PWD` | Present working directory | Same as `pwd` command\n",
    "`SHELL` | Which shell program is being used | `/bin/bash`\n",
    "`USER` | User's `ID` | repl"
   ]
  },
  {
   "cell_type": "code",
   "execution_count": 108,
   "metadata": {},
   "outputs": [
    {
     "name": "stdout",
     "output_type": "stream",
     "text": [
      "CLICOLOR='1'\r\n",
      "CONDA_DIR='/opt/conda'\r\n",
      "DEBIAN_FRONTEND='noninteractive'\r\n",
      "GIT_PAGER='cat'\r\n",
      "HOME='/home/jovyan'\r\n",
      "HOSTNAME='1c156e6ed49a'\r\n",
      "IFS=' \t\r\n",
      "'\r\n",
      "JPY_API_TOKEN='52c48b66b0ef46a49b5664b2c93240df'\r\n",
      "JPY_BASE_URL='/user/s_rodriguezhernandez@ucsb.edu/'\r\n",
      "JPY_COOKIE_NAME='cookie'\r\n",
      "JPY_HUB_API_URL='http://jupyterhubserver:8081/hub/api'\r\n",
      "JPY_HUB_PREFIX='/hub/'\r\n",
      "JPY_PARENT_PID='6'\r\n",
      "JPY_USER='s_rodriguezhernandez@ucsb.edu'\r\n",
      "JULIA_PKGDIR='/opt/julia'\r\n",
      "JULIA_VERSION='0.6.2'\r\n",
      "JUPYTERHUB_API_TOKEN='52c48b66b0ef46a49b5664b2c93240df'\r\n",
      "JUPYTERHUB_API_URL='http://bef2ab2ac04f:8081/hub/api'\r\n",
      "JUPYTERHUB_BASE_URL='/'\r\n",
      "JUPYTERHUB_CLIENT_ID='user-s_rodriguezhernandez%40ucsb.edu'\r\n",
      "JUPYTERHUB_HOST=''\r\n",
      "JUPYTERHUB_OAUTH_CALLBACK_URL='/user/s_rodriguezhernandez@ucsb.edu/oauth_callback'\r\n",
      "JUPYTERHUB_SERVICE_PREFIX='/user/s_rodriguezhernandez@ucsb.edu/'\r\n",
      "JUPYTERHUB_USER='s_rodriguezhernandez@ucsb.edu'\r\n",
      "LANG='en_US.UTF-8'\r\n",
      "LANGUAGE='en_US.UTF-8'\r\n",
      "LC_ALL='en_US.UTF-8'\r\n",
      "MINICONDA_VERSION='4.3.30'\r\n",
      "MPLBACKEND='module://ipykernel.pylab.backend_inline'\r\n",
      "NB_GID='100'\r\n",
      "NB_UID='1000'\r\n",
      "NB_USER='jovyan'\r\n",
      "NOTEBOOK_DIR='/home/jovyan/work'\r\n",
      "OPTIND='1'\r\n",
      "PAGER='cat'\r\n",
      "PATH='/opt/conda/bin:/usr/local/sbin:/usr/local/bin:/usr/sbin:/usr/bin:/sbin:/bin'\r\n",
      "PPID='294'\r\n",
      "PS1='$ '\r\n",
      "PS2='> '\r\n",
      "PS4='+ '\r\n",
      "PWD='/home/jovyan/work/Spring-2018/Labs'\r\n",
      "SHELL='/bin/bash'\r\n",
      "SHLVL='0'\r\n",
      "TERM='xterm-color'\r\n",
      "XDG_CACHE_HOME='/home/jovyan/.cache/'\r\n"
     ]
    }
   ],
   "source": [
    "# To get the entire list of environment variables use the set command\n",
    "! set"
   ]
  },
  {
   "cell_type": "markdown",
   "metadata": {},
   "source": [
    "To see the **variable value**, the simplest way is to use the `echo` command and the variable name preceded by the dollar sign `$`. For example:"
   ]
  },
  {
   "cell_type": "code",
   "execution_count": 109,
   "metadata": {},
   "outputs": [
    {
     "name": "stdout",
     "output_type": "stream",
     "text": [
      "/bin/bash\r\n"
     ]
    }
   ],
   "source": [
    "! echo $SHELL "
   ]
  },
  {
   "cell_type": "markdown",
   "metadata": {},
   "source": [
    "## `for` loops\n",
    "\n",
    "- Suppose we want to subset `iris.data` in three files, each one containing the rows associated to a certain class (in this case `Iris-setosa`, `Iris-versicolor`, `Iris-virginica`). \n",
    "- A possible option would be to use `grep` and re-directing the output to a file using `>`. \n",
    "- Since the latter would involve repeating the same process three times, we can then replicate the same procedure more efficiently using a for loop."
   ]
  },
  {
   "cell_type": "code",
   "execution_count": 41,
   "metadata": {},
   "outputs": [
    {
     "name": "stdout",
     "output_type": "stream",
     "text": [
      "Iris-setosa\r\n",
      "Iris-versicolor\r\n",
      "Iris-virginica\r\n",
      "\r\n"
     ]
    }
   ],
   "source": [
    "# Obtain iris flower types\n",
    "! cut -f 5 -d , iris.data | uniq "
   ]
  },
  {
   "cell_type": "markdown",
   "metadata": {},
   "source": [
    "We can create \"shell\" variables just as environment variables by \"redirecting\" de value of a command to a variable in LHS. Note that there are no spaces around the equal sign."
   ]
  },
  {
   "cell_type": "code",
   "execution_count": 58,
   "metadata": {},
   "outputs": [
    {
     "name": "stdout",
     "output_type": "stream",
     "text": [
      "Iris-setosa Iris-versicolor Iris-virginica\n"
     ]
    }
   ],
   "source": [
    "%%bash  \n",
    "iris_type=$(cut -f 5 -d , iris.data | uniq)\n",
    "echo $iris_type"
   ]
  },
  {
   "cell_type": "code",
   "execution_count": 61,
   "metadata": {},
   "outputs": [],
   "source": [
    "%%bash  \n",
    "iris_type=$(cut -f 5 -d , iris.data | uniq)\n",
    "for flower in $iris_type; do grep $flower iris.data > $flower.csv; done"
   ]
  },
  {
   "cell_type": "code",
   "execution_count": 62,
   "metadata": {},
   "outputs": [
    {
     "name": "stdout",
     "output_type": "stream",
     "text": [
      "bottom5.csv\t Iris-versicolor.csv  Lab2.ipynb\r\n",
      "iris.data\t Iris-virginica.csv   setosa.csv\r\n",
      "Iris-setosa.csv  Lab1.ipynb\t      Updating Forked Repo.ipynb\r\n"
     ]
    }
   ],
   "source": [
    "! ls"
   ]
  },
  {
   "cell_type": "markdown",
   "metadata": {},
   "source": [
    "### The loop's parts are:\n",
    "\n",
    "The skeleton `for ...variable... in ...list...; ...body...; done`\n",
    "\n",
    "1. The list of things the loop is to process (in our case, the words Iris-setosa, Iris-versicolor, Iris-virginica accesses using `$iris_type`).\n",
    "2. The variable that keeps track of which thing the loop is currently processing (in our case, `flower`).\n",
    "3. The body of the loop that does the processing (in our case, `grep $flower iris.data > $flower.csv`).\n",
    "\n",
    "> Notice that the body uses `$flower` to get the variable's value instead of just suffix, just like it does with any other shell variable. Also notice where the semi-colons go: the first one comes between the list and the keyword do, and the second comes between the body and the keyword done."
   ]
  },
  {
   "cell_type": "markdown",
   "metadata": {},
   "source": [
    "----\n",
    "# Appendix: Regular Expressions\n",
    "\n",
    "1. Literal Matches\n",
    "2. Anchor Matches\n",
    "3. Matching Any Character\n",
    "4. Bracket Expressions\n",
    "5. Repeat Pattern Zero or More Times\n",
    "6. Escaping Meta-Characters"
   ]
  },
  {
   "cell_type": "markdown",
   "metadata": {},
   "source": [
    "Let's try an example. We will use grep to search for every line that contains the word \"GNU\" in the GNU General Public License version 3 on an Ubuntu system."
   ]
  },
  {
   "cell_type": "code",
   "execution_count": 65,
   "metadata": {},
   "outputs": [
    {
     "name": "stdout",
     "output_type": "stream",
     "text": [
      "--2018-04-13 05:50:02--  https://www.gnu.org/licenses/gpl.txt\n",
      "Resolving www.gnu.org (www.gnu.org)... 208.118.235.148, 2001:4830:134:3::a\n",
      "Connecting to www.gnu.org (www.gnu.org)|208.118.235.148|:443... connected.\n",
      "HTTP request sent, awaiting response... 200 OK\n",
      "Length: 35149 (34K) [text/plain]\n",
      "Saving to: ‘gpl.txt’\n",
      "\n",
      "gpl.txt             100%[===================>]  34.33K  --.-KB/s    in 0.07s   \n",
      "\n",
      "2018-04-13 05:50:03 (488 KB/s) - ‘gpl.txt’ saved [35149/35149]\n",
      "\n"
     ]
    }
   ],
   "source": [
    "! wget https://www.gnu.org/licenses/gpl.txt"
   ]
  },
  {
   "cell_type": "code",
   "execution_count": 66,
   "metadata": {},
   "outputs": [
    {
     "name": "stdout",
     "output_type": "stream",
     "text": [
      "bottom5.csv  Iris-setosa.csv\t  Lab1.ipynb  Updating Forked Repo.ipynb\r\n",
      "gpl.txt      Iris-versicolor.csv  Lab2.ipynb\r\n",
      "iris.data    Iris-virginica.csv   setosa.csv\r\n"
     ]
    }
   ],
   "source": [
    "! ls"
   ]
  },
  {
   "cell_type": "markdown",
   "metadata": {},
   "source": [
    " ## Literal Matches\n",
    "\n",
    "----\n",
    "- Patterns that exactly specify the characters to be matched are called \"literals\" because they match the pattern literally, character-for-character.\n",
    "- All alphabetic and numerical characters (as well as certain other characters) are matched literally unless modified by other expression mechanisms.\n",
    "\n",
    "\n"
   ]
  },
  {
   "cell_type": "code",
   "execution_count": 69,
   "metadata": {},
   "outputs": [
    {
     "name": "stdout",
     "output_type": "stream",
     "text": [
      "                    GNU GENERAL PUBLIC LICENSE\r\n",
      "  The GNU General Public License is a free, copyleft license for\r\n",
      "the GNU General Public License is intended to guarantee your freedom to\r\n",
      "GNU General Public License for most of our software; it applies also to\r\n",
      "  Developers that use the GNU GPL protect your rights with two steps:\r\n",
      "  \"This License\" refers to version 3 of the GNU General Public License.\r\n",
      "  13. Use with the GNU Affero General Public License.\r\n",
      "under version 3 of the GNU Affero General Public License into a single\r\n",
      "but the special requirements of the GNU Affero General Public License,\r\n",
      "the GNU General Public License from time to time.  Such new versions will\r\n",
      "Program specifies that a certain numbered version of the GNU General\r\n",
      "GNU General Public License, you may choose any version ever published\r\n",
      "versions of the GNU General Public License can be used, that proxy's\r\n",
      "    it under the terms of the GNU General Public License as published by\r\n",
      "    GNU General Public License for more details.\r\n",
      "    You should have received a copy of the GNU General Public License\r\n",
      "For more information on this, and how to apply and follow the GNU GPL, see\r\n",
      "  The GNU General Public License does not permit incorporating your program\r\n",
      "the library.  If this is what you want to do, use the GNU Lesser General\r\n"
     ]
    }
   ],
   "source": [
    "! grep \"GNU\" gpl.txt"
   ]
  },
  {
   "cell_type": "markdown",
   "metadata": {},
   "source": [
    "## Anchor Matches\n",
    "---\n",
    "- Anchors are special characters that specify where in the line a match must occur to be valid.\n",
    "\n"
   ]
  },
  {
   "cell_type": "code",
   "execution_count": 70,
   "metadata": {},
   "outputs": [
    {
     "name": "stdout",
     "output_type": "stream",
     "text": [
      "GNU General Public License for most of our software; it applies also to\r\n",
      "GNU General Public License, you may choose any version ever published\r\n"
     ]
    }
   ],
   "source": [
    "! grep \"^GNU\" gpl.txt"
   ]
  },
  {
   "cell_type": "code",
   "execution_count": 73,
   "metadata": {},
   "outputs": [
    {
     "name": "stdout",
     "output_type": "stream",
     "text": [
      "that there is no warranty for this free software.  For both users' and\r\n",
      "  The precise terms and conditions for copying, distribution and\r\n",
      "License.  Each licensee is addressed as \"you\".  \"Licensees\" and\r\n",
      "receive it, in any medium, provided that you conspicuously and\r\n",
      "    alternative is allowed only occasionally and noncommercially, and\r\n",
      "network may be denied when the modification itself materially and\r\n",
      "adversely affects the operation of the network or violates the rules and\r\n",
      "provisionally, unless and until the copyright holder explicitly and\r\n",
      "receives a license from the original licensors, to run, modify and\r\n",
      "make, use, sell, offer for sale, import and otherwise run, modify and\r\n"
     ]
    }
   ],
   "source": [
    "! grep \"and$\" gpl.txt"
   ]
  },
  {
   "cell_type": "markdown",
   "metadata": {},
   "source": [
    "## Matching Any Character\n",
    "---\n",
    "- The period character (.) is used in regular expressions to mean that any single character can exist at the specified location.\n",
    "\n",
    "- For example, if we want to match anything that has two characters and then the string \"cept\", we could use the following pattern:\n"
   ]
  },
  {
   "cell_type": "code",
   "execution_count": 76,
   "metadata": {},
   "outputs": [
    {
     "name": "stdout",
     "output_type": "stream",
     "text": [
      "use, which is precisely where it is most unacceptable.  Therefore, we\r\n",
      "infringement under applicable copyright law, except executing it on a\r\n",
      "tells the user that there is no warranty for the work (except to the\r\n",
      "License by making exceptions from one or more of its conditions.\r\n",
      "form of a separately written license, or stated as exceptions;\r\n",
      "  You may not propagate or modify a covered work except as expressly\r\n",
      "  9. Acceptance Not Required for Having Copies.\r\n",
      "  You are not required to accept this License in order to receive or\r\n",
      "to receive a copy likewise does not require acceptance.  However,\r\n",
      "not accept this License.  Therefore, by modifying or propagating a\r\n",
      "covered work, you indicate your acceptance of this License to do so.\r\n",
      "public statement of acceptance of a version permanently authorizes you\r\n"
     ]
    }
   ],
   "source": [
    "! grep \"..cept\" gpl.txt"
   ]
  },
  {
   "cell_type": "markdown",
   "metadata": {},
   "source": [
    "## Bracket Expressions\n",
    "---\n",
    "- By placing a group of characters within brackets (\"[\" and \"]\"), we can specify that the character at that position can be any one character found within the bracket group.\n"
   ]
  },
  {
   "cell_type": "code",
   "execution_count": 77,
   "metadata": {},
   "outputs": [
    {
     "name": "stdout",
     "output_type": "stream",
     "text": [
      "your programs, too.\r\n",
      "freedoms that you received.  You must make sure that they, too, receive\r\n",
      "  Developers that use the GNU GPL protect your rights with two steps:\r\n",
      "a computer network, with no transfer of a copy, is not conveying.\r\n",
      "System Libraries, or general-purpose tools or generally available free\r\n",
      "    Corresponding Source from a network server at no charge.\r\n",
      "    copy the object code is a network server, the Corresponding Source\r\n",
      "network may be denied when the modification itself materially and\r\n",
      "adversely affects the operation of the network or violates the rules and\r\n",
      "protocols for communication across the network.\r\n",
      "publicly available network server or other readily accessible means,\r\n",
      "section 13, concerning interaction through a network will apply to the\r\n"
     ]
    }
   ],
   "source": [
    "!grep \"t[wo]o\" gpl.txt"
   ]
  },
  {
   "cell_type": "code",
   "execution_count": 78,
   "metadata": {},
   "outputs": [
    {
     "name": "stdout",
     "output_type": "stream",
     "text": [
      "  1. Source Code.\r\n",
      "    model, to give anyone who possesses the object code either (1) a\r\n",
      "the only significant mode of use of the product.\r\n",
      "notice like this when it starts in an interactive mode:\r\n"
     ]
    }
   ],
   "source": [
    "!grep \"[^c]ode\" gpl.txt"
   ]
  },
  {
   "cell_type": "code",
   "execution_count": 79,
   "metadata": {},
   "outputs": [
    {
     "name": "stdout",
     "output_type": "stream",
     "text": [
      "GNU General Public License for most of our software; it applies also to\r\n",
      "States should not allow patents to restrict development and use of\r\n",
      "License.  Each licensee is addressed as \"you\".  \"Licensees\" and\r\n",
      "Component, and (b) serves only to enable use of the work with that\r\n",
      "Major Component, or to implement a Standard Interface for which an\r\n",
      "System Libraries, or general-purpose tools or generally available free\r\n",
      "Source.\r\n",
      "User Product is transferred to the recipient in perpetuity or for a\r\n",
      "Corresponding Source conveyed under this section must be accompanied\r\n",
      "License by making exceptions from one or more of its conditions.\r\n",
      "Additional permissions that are applicable to the entire Program shall\r\n",
      "License, you may add to a covered work material governed by the terms\r\n",
      "Corresponding Source of the work from the predecessor in interest, if\r\n",
      "License of the Program or a work on which the Program is based.  The\r\n",
      "License and any other pertinent obligations, then as a consequence you may\r\n",
      "License would be to refrain entirely from conveying the Program.\r\n",
      "License will continue to apply to the part which is the covered work,\r\n",
      "Program specifies that a certain numbered version of the GNU General\r\n",
      "Public License \"or any later version\" applies to it, you have the\r\n",
      "Foundation.  If the Program does not specify a version number of the\r\n",
      "GNU General Public License, you may choose any version ever published\r\n",
      "APPLICABLE LAW.  EXCEPT WHEN OTHERWISE STATED IN WRITING THE COPYRIGHT\r\n",
      "HOLDERS AND/OR OTHER PARTIES PROVIDE THE PROGRAM \"AS IS\" WITHOUT WARRANTY\r\n",
      "OF ANY KIND, EITHER EXPRESSED OR IMPLIED, INCLUDING, BUT NOT LIMITED TO,\r\n",
      "THE IMPLIED WARRANTIES OF MERCHANTABILITY AND FITNESS FOR A PARTICULAR\r\n",
      "PURPOSE.  THE ENTIRE RISK AS TO THE QUALITY AND PERFORMANCE OF THE PROGRAM\r\n",
      "IS WITH YOU.  SHOULD THE PROGRAM PROVE DEFECTIVE, YOU ASSUME THE COST OF\r\n",
      "ALL NECESSARY SERVICING, REPAIR OR CORRECTION.\r\n",
      "WILL ANY COPYRIGHT HOLDER, OR ANY OTHER PARTY WHO MODIFIES AND/OR CONVEYS\r\n",
      "THE PROGRAM AS PERMITTED ABOVE, BE LIABLE TO YOU FOR DAMAGES, INCLUDING ANY\r\n",
      "GENERAL, SPECIAL, INCIDENTAL OR CONSEQUENTIAL DAMAGES ARISING OUT OF THE\r\n",
      "USE OR INABILITY TO USE THE PROGRAM (INCLUDING BUT NOT LIMITED TO LOSS OF\r\n",
      "DATA OR DATA BEING RENDERED INACCURATE OR LOSSES SUSTAINED BY YOU OR THIRD\r\n",
      "PARTIES OR A FAILURE OF THE PROGRAM TO OPERATE WITH ANY OTHER PROGRAMS),\r\n",
      "EVEN IF SUCH HOLDER OR OTHER PARTY HAS BEEN ADVISED OF THE POSSIBILITY OF\r\n",
      "SUCH DAMAGES.\r\n",
      "Program, unless a warranty or assumption of liability accompanies a\r\n",
      "Also add information on how to contact you by electronic and paper mail.\r\n",
      "The hypothetical commands `show w' and `show c' should show the appropriate\r\n",
      "For more information on this, and how to apply and follow the GNU GPL, see\r\n",
      "Public License instead of this License.  But first, please read\r\n"
     ]
    }
   ],
   "source": [
    "!grep \"^[A-Z]\" gpl.txt"
   ]
  },
  {
   "cell_type": "markdown",
   "metadata": {},
   "source": [
    "## Repeat Pattern Zero or More Times\n",
    "---\n",
    "- Finally, one of the most commonly used meta-characters is the \"*\", which means \"repeat the previous character or expression zero or more times\".\n",
    "\n",
    "- If we wanted to find each line that contained an opening and closing parenthesis, with only letters and single spaces in between, we could use the following expression:\n"
   ]
  },
  {
   "cell_type": "code",
   "execution_count": 80,
   "metadata": {},
   "outputs": [
    {
     "name": "stdout",
     "output_type": "stream",
     "text": [
      " Copyright (C) 2007 Free Software Foundation, Inc. <https://fsf.org/>\r\n",
      "distribution (with or without modification), making available to the\r\n",
      "than the work as a whole, that (a) is included in the normal form of\r\n",
      "Component, and (b) serves only to enable use of the work with that\r\n",
      "(if any) on which the executable work runs, or a compiler used to\r\n",
      "    (including a physical distribution medium), accompanied by the\r\n",
      "    (including a physical distribution medium), accompanied by a\r\n",
      "    place (gratis or for a charge), and offer equivalent access to the\r\n",
      "    may be on a different server (operated by you or a third party)\r\n",
      "fixed term (regardless of how the transaction is characterized), the\r\n",
      "license from a particular copyright holder is reinstated (a)\r\n",
      "finally terminates your license, and (b) permanently, if the copyright\r\n",
      "received notice of violation of this License (for any work) from that\r\n",
      "patent license (a) in connection with copies of the covered work\r\n",
      "conveyed by you (or copies made from those copies), or (b) primarily\r\n",
      "    Copyright (C) <year>  <name of author>\r\n",
      "    (at your option) any later version.\r\n",
      "    <program>  Copyright (C) <year>  <name of author>\r\n",
      "  You should also get your employer (if you work as a programmer) or school,\r\n"
     ]
    }
   ],
   "source": [
    "!grep \"([A-Za-z ]*)\" gpl.txt"
   ]
  },
  {
   "cell_type": "markdown",
   "metadata": {},
   "source": [
    "## Escaping Meta-Characters\n",
    "---\n",
    "Sometimes, we may want to search for a literal period or a literal opening bracket. Because these characters have special meaning in regular expressions, we need to \"escape\" these characters to tell grep that we do not wish to use their special meaning in this case.\n",
    "\n",
    "We can escape characters by using the backslash character (`\\`) before the character that would normally have a special meaning.\n",
    "\n",
    "For instance, if we want to find any line that begins with a capital letter and ends with a period, we could use the following expression. The ending period is escaped so that it represents a literal period instead of the usual \"any character\" meaning:\n"
   ]
  },
  {
   "cell_type": "code",
   "execution_count": 82,
   "metadata": {},
   "outputs": [
    {
     "name": "stdout",
     "output_type": "stream",
     "text": [
      "Source.\r\n",
      "License by making exceptions from one or more of its conditions.\r\n",
      "License would be to refrain entirely from conveying the Program.\r\n",
      "ALL NECESSARY SERVICING, REPAIR OR CORRECTION.\r\n",
      "SUCH DAMAGES.\r\n",
      "Also add information on how to contact you by electronic and paper mail.\r\n"
     ]
    }
   ],
   "source": [
    "!grep \"^[A-Z].*\\.$\" gpl.txt"
   ]
  },
  {
   "cell_type": "markdown",
   "metadata": {},
   "source": [
    "# References\n",
    "\n",
    "1. [https://www.digitalocean.com/community/tutorials/using-grep-regular-expressions-to-search-for-text-patterns-in-linux](https://www.digitalocean.com/community/tutorials/using-grep-regular-expressions-to-search-for-text-patterns-in-linux)\n",
    "2. https://regexone.com/"
   ]
  }
 ],
 "metadata": {
  "kernelspec": {
   "display_name": "Python 3",
   "language": "python",
   "name": "python3"
  },
  "language_info": {
   "codemirror_mode": {
    "name": "ipython",
    "version": 3
   },
   "file_extension": ".py",
   "mimetype": "text/x-python",
   "name": "python",
   "nbconvert_exporter": "python",
   "pygments_lexer": "ipython3",
   "version": "3.6.5"
  }
 },
 "nbformat": 4,
 "nbformat_minor": 2
}
