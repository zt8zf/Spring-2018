{
 "cells": [
  {
   "cell_type": "markdown",
   "metadata": {},
   "source": [
    "# Assignment 1 - Statistical Simulation\n",
    "\n",
    "__Due date: April 12, 2018 by 10 pm__   \n",
    "__Submision: Jupyter notebook file through GauchoSpace__   \n",
    "__Late submission policy: Within 24 hours with 10% penalty. Not accepted after 24 hours__  \n",
    "__Note: This is an individual assignment__\n",
    "\n",
    "You will create a simulation. The goal is to empirically verify one statistics or probability concept or theorem. In doing so, you will use numpy arrays, sampling from various distributions, etc.\n",
    "\n",
    "State your assumptions and choices you make in your simulation setting. Describe what you are simulating as if you were explaining the statistical result to someone with computing background, but basic probability and statistics.\n",
    "\n",
    "If you are unclear what to do, pick a theorem, and show that it is correct empirically. Show all the claims is right in a probabilistic sense. Note that asymptotic results are theoretical results that you cannot unequivocally show in a simulation setting: i.e., $n\\rightarrow\\infty$.\n",
    "\n",
    "Communicate your goal, process, and results clearly into a Jupyter notebook.\n",
    "\n",
    "Guidelines:\n",
    "\n",
    "- Make sure running your notebook takes no more than 2 minutes to complete\n",
    "- Focus on explaining the concepts, coding legibly, and completeness\n",
    "- We will run your code from top to bottom. Make sure it runs to completion without errors on https://jupyterhub.lsit.ucsb.edu\n",
    "\n",
    "### Book resource\n",
    "\n",
    "An excellent resource is a book titled [Simulation by Sheldon Ross](https://ucsb-primo.hosted.exlibrisgroup.com/primo-explore/fulldisplay?docid=01UCSB_ALMA51283278820003776&context=L&vid=UCSB&search_scope=default_scope&isFrbr=true&tab=default_tab&lang=en_US). Relevant materials are in Chapters 8 - 12.\n",
    "\n",
    "### 234 students\n",
    "\n",
    "The sky is the limit! You are free to simulate some probabilistic or statistical models what you find fun and exciting: Markov chains, goodness-of-fit-tests, etc.\n",
    "\n",
    "### 134 students\n",
    "\n",
    "Here are some ideas if there aren't other simulations you would like to pursue.\n",
    "\n",
    "#### Confidence intervals\n",
    "\n",
    "Simulate random observations from a selected distribution and compute the mean and variance estimates. Compare to the theoretical confidence results: i.e., the conclusion should be comparing the number of times the confidence bound is breached as compared to confidence $1-\\alpha$.\n",
    "\n",
    "#### Hypothesis testing\n",
    "\n",
    "Select a null distribution. Then select an alternate truth that is different than the null. Sample from the alternate distribution, and, for a test statistic of your choosing, test various hypotheses. Compute the theoretical and empirical type I and II errors. Compare your results.\n",
    "\n",
    "#### Likelihood ratio test\n",
    "\n",
    "From WMS (120B textbook):\n",
    "\n",
    "> __Theorem 10.2__: Let $Y_1, Y_2, \\dots, Y_n$ have a joint likelihood function $L(\\Theta)$. Let $r_0$ denote the number of free parameters that are specified by $H_0:\\Theta\\in\\Omega_0$ and let $r$ denote the number of free parameters specified by the statement $\\Theta\\in\\Omega_0$. Then, for large n, $-2\\ln(\\lambda)$ has approximately a $\\chi^2$ distribution with $r_0-r$ degrees of freedom\n",
    "\n",
    "where \n",
    "\n",
    "> $\\lambda$ is defined by $$\\lambda = \\frac{L(\\hat\\Omega_0)}{L(\\hat\\Omega)} = \\frac{\\max_{\\Theta\\in{\\Omega_0}}L(\\Theta)}{\\max_{\\Theta\\in{\\Omega}}L(\\Theta)}$$"
   ]
  }
 ],
 "metadata": {
  "language_info": {
   "name": "python",
   "pygments_lexer": "ipython3"
  }
 },
 "nbformat": 4,
 "nbformat_minor": 2
}
