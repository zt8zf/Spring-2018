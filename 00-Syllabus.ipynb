{
 "cells": [
  {
   "cell_type": "markdown",
   "metadata": {
    "slideshow": {
     "slide_type": "slide"
    }
   },
   "source": [
    "# PSTAT 134/234 - Statistical Data Science\n",
    "\n",
    "---\n",
    "\n",
    "## Instructor: Sang-Yun Oh\n",
    "\n",
    "- Lectures: MW 11 am - 12:15 pm\n",
    "\n",
    "- Office: South Hall 5514\n",
    "\n",
    "- Office hours: Tuesday 4-6 pm\n",
    "\n",
    "\n",
    "## Teaching Assistant: Sergio Rodriguez \n",
    "\n",
    "- Sections: F 9 - 9:50 am / 12 - 12:50 pm\n",
    "\n",
    "- Office: South Hall 6432-W\n",
    "\n",
    "- Office hours: Thursday 1-3 pm\n"
   ]
  },
  {
   "cell_type": "markdown",
   "metadata": {
    "slideshow": {
     "slide_type": "slide"
    }
   },
   "source": [
    "# Course Information \n",
    "\n",
    "---\n",
    "\n",
    "## Grading\n",
    "\n",
    "* Attendance in lectures and sections are required (20%)  \n",
    "    Total of five will be dropped. No exceptions\n",
    "\n",
    "* Individual in-class midterm (20%)\n",
    "\n",
    "* Individual assignments (30%)\n",
    "\n",
    "* Group final project & presentations (30%)\n",
    "\n",
    "\n",
    "## Textbooks\n",
    "\n",
    "- [Python Data Science Handbook](https://jakevdp.github.io/PythonDataScienceHandbook/) by Jake Vanderplas\n",
    "\n",
    "- [R for Data Science](http://r4ds.had.co.nz/) by Hadley Wickham and Garrett Grolemund\n",
    "\n",
    "- Other resources as necessary\n",
    "\n",
    "\n",
    "## Learn by doing\n",
    "\n",
    "- Critical statistical thinking is crucial\n",
    "\n",
    "- Significant programming is required\n",
    "\n",
    "- Many software tools will be new \n",
    "    e.g., R, Python, command line tools, etc\n",
    "\n",
    "- Proactive attitude is a must!  \n",
    "    e.g., asking questions, discussing, experimenting, RTM (read-the-manual)\n",
    "\n",
    "- Diverse backgrounds mean you will have different strengths!  \n",
    "    Help each other, and assess your own areas of improvement\n",
    "\n",
    "- You don't have to be an expert at everything\n",
    "\n",
    "- But you have to be willing to dig deeper on your own"
   ]
  },
  {
   "cell_type": "markdown",
   "metadata": {},
   "source": [
    "# Course outline\n",
    "\n",
    "---\n",
    "\n",
    "* **Week 1** (4/2-4/6): Data and uncertainty   \n",
    "    - Computing: Jupyter notebook and Python primer\n",
    "    - Reading: [Chapter 1 (skim)-2](https://jakevdp.github.io/PythonDataScienceHandbook/index.html#1.-IPython:-Beyond-Normal-Python) in Vanderplas\n",
    "    \n",
    "* **Week 2** (4/9-4/13): Data scraping, transformation, and wrangling\n",
    "    - Computing: Shell commands and Pandas\n",
    "    - Reading: [Chapter 3](https://jakevdp.github.io/PythonDataScienceHandbook/index.html#3.-Data-Manipulation-with-Pandas) in Vanderplas  \n",
    "        [The Unix Shell](http://swcarpentry.github.io/shell-novice/) by Software Carpentry  \n",
    "        \n",
    "* **Week 3-4** (4/16-4/27): Visualization and exploratory analysis\n",
    "    - Computing: Matplotlib and Scikit-learn\n",
    "    - Reading: [Chapter 4 (skim) - 5](https://jakevdp.github.io/PythonDataScienceHandbook/index.html#4.-Visualization-with-Matplotlib)\n",
    "\n",
    "* **In-class midterm** (4/30)\n",
    "\n",
    "* **Week 5-6** (5/2-5/11): Finance data module\n",
    "\n",
    "* **Week 7-8** (5/14-5/24): Health data module\n",
    "               \n",
    "* **Week 9** (5/28-6/1): Text data module\n",
    "\n",
    "* **Week 10** (6/4-6/8): Final project presentations\n",
    "\n",
    "* **Final Projects** (6/14): Final project presentations\n"
   ]
  },
  {
   "cell_type": "markdown",
   "metadata": {
    "slideshow": {
     "slide_type": "slide"
    }
   },
   "source": [
    "# Computational Environment\n",
    "\n",
    "---\n",
    "\n",
    "## Github\n",
    "\n",
    "* [Github Student Account](https://education.github.com/pack)\n",
    "\n",
    "\n",
    "## Jupyterhub\n",
    "\n",
    "* [Course Jupyter Hub](https://jupyterhub.lsit.ucsb.edu)\n",
    "\n",
    "* PSTAT 134/234 coursework only\n",
    "\n",
    "* Your work can be inspected by teaching staff at any time\n",
    "\n",
    "* Sign the [privacy policy](https://goo.gl/forms/pwa0FKNy6F0ZT8U32)"
   ]
  }
 ],
 "metadata": {
  "kernelspec": {
   "display_name": "Python [default]",
   "language": "python",
   "name": "python3"
  },
  "language_info": {
   "codemirror_mode": {
    "name": "ipython",
    "version": 3
   },
   "file_extension": ".py",
   "mimetype": "text/x-python",
   "name": "python",
   "nbconvert_exporter": "python",
   "pygments_lexer": "ipython3",
   "version": "3.6.3"
  }
 },
 "nbformat": 4,
 "nbformat_minor": 2
}
